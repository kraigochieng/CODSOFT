{
 "cells": [
  {
   "cell_type": "code",
   "execution_count": 29,
   "metadata": {},
   "outputs": [],
   "source": [
    "import pandas as pd\n",
    "import numpy as np\n",
    "import matplotlib.pyplot as plt\n",
    "from scipy.stats import trim_mean\n",
    "import math"
   ]
  },
  {
   "cell_type": "code",
   "execution_count": 3,
   "metadata": {},
   "outputs": [],
   "source": [
    "iris = pd.read_csv(\"IRIS.csv\")"
   ]
  },
  {
   "cell_type": "code",
   "execution_count": 4,
   "metadata": {},
   "outputs": [
    {
     "data": {
      "text/html": [
       "<div>\n",
       "<style scoped>\n",
       "    .dataframe tbody tr th:only-of-type {\n",
       "        vertical-align: middle;\n",
       "    }\n",
       "\n",
       "    .dataframe tbody tr th {\n",
       "        vertical-align: top;\n",
       "    }\n",
       "\n",
       "    .dataframe thead th {\n",
       "        text-align: right;\n",
       "    }\n",
       "</style>\n",
       "<table border=\"1\" class=\"dataframe\">\n",
       "  <thead>\n",
       "    <tr style=\"text-align: right;\">\n",
       "      <th></th>\n",
       "      <th>sepal_length</th>\n",
       "      <th>sepal_width</th>\n",
       "      <th>petal_length</th>\n",
       "      <th>petal_width</th>\n",
       "    </tr>\n",
       "  </thead>\n",
       "  <tbody>\n",
       "    <tr>\n",
       "      <th>count</th>\n",
       "      <td>150.000000</td>\n",
       "      <td>150.000000</td>\n",
       "      <td>150.000000</td>\n",
       "      <td>150.000000</td>\n",
       "    </tr>\n",
       "    <tr>\n",
       "      <th>mean</th>\n",
       "      <td>5.843333</td>\n",
       "      <td>3.054000</td>\n",
       "      <td>3.758667</td>\n",
       "      <td>1.198667</td>\n",
       "    </tr>\n",
       "    <tr>\n",
       "      <th>std</th>\n",
       "      <td>0.828066</td>\n",
       "      <td>0.433594</td>\n",
       "      <td>1.764420</td>\n",
       "      <td>0.763161</td>\n",
       "    </tr>\n",
       "    <tr>\n",
       "      <th>min</th>\n",
       "      <td>4.300000</td>\n",
       "      <td>2.000000</td>\n",
       "      <td>1.000000</td>\n",
       "      <td>0.100000</td>\n",
       "    </tr>\n",
       "    <tr>\n",
       "      <th>25%</th>\n",
       "      <td>5.100000</td>\n",
       "      <td>2.800000</td>\n",
       "      <td>1.600000</td>\n",
       "      <td>0.300000</td>\n",
       "    </tr>\n",
       "    <tr>\n",
       "      <th>50%</th>\n",
       "      <td>5.800000</td>\n",
       "      <td>3.000000</td>\n",
       "      <td>4.350000</td>\n",
       "      <td>1.300000</td>\n",
       "    </tr>\n",
       "    <tr>\n",
       "      <th>75%</th>\n",
       "      <td>6.400000</td>\n",
       "      <td>3.300000</td>\n",
       "      <td>5.100000</td>\n",
       "      <td>1.800000</td>\n",
       "    </tr>\n",
       "    <tr>\n",
       "      <th>max</th>\n",
       "      <td>7.900000</td>\n",
       "      <td>4.400000</td>\n",
       "      <td>6.900000</td>\n",
       "      <td>2.500000</td>\n",
       "    </tr>\n",
       "  </tbody>\n",
       "</table>\n",
       "</div>"
      ],
      "text/plain": [
       "       sepal_length  sepal_width  petal_length  petal_width\n",
       "count    150.000000   150.000000    150.000000   150.000000\n",
       "mean       5.843333     3.054000      3.758667     1.198667\n",
       "std        0.828066     0.433594      1.764420     0.763161\n",
       "min        4.300000     2.000000      1.000000     0.100000\n",
       "25%        5.100000     2.800000      1.600000     0.300000\n",
       "50%        5.800000     3.000000      4.350000     1.300000\n",
       "75%        6.400000     3.300000      5.100000     1.800000\n",
       "max        7.900000     4.400000      6.900000     2.500000"
      ]
     },
     "execution_count": 4,
     "metadata": {},
     "output_type": "execute_result"
    }
   ],
   "source": [
    "iris.describe()"
   ]
  },
  {
   "cell_type": "code",
   "execution_count": 37,
   "metadata": {},
   "outputs": [
    {
     "data": {
      "text/html": [
       "<div>\n",
       "<style scoped>\n",
       "    .dataframe tbody tr th:only-of-type {\n",
       "        vertical-align: middle;\n",
       "    }\n",
       "\n",
       "    .dataframe tbody tr th {\n",
       "        vertical-align: top;\n",
       "    }\n",
       "\n",
       "    .dataframe thead th {\n",
       "        text-align: right;\n",
       "    }\n",
       "</style>\n",
       "<table border=\"1\" class=\"dataframe\">\n",
       "  <thead>\n",
       "    <tr style=\"text-align: right;\">\n",
       "      <th></th>\n",
       "      <th>sepal_length</th>\n",
       "      <th>sepal_width</th>\n",
       "      <th>petal_length</th>\n",
       "      <th>petal_width</th>\n",
       "    </tr>\n",
       "    <tr>\n",
       "      <th>name</th>\n",
       "      <th></th>\n",
       "      <th></th>\n",
       "      <th></th>\n",
       "      <th></th>\n",
       "    </tr>\n",
       "  </thead>\n",
       "  <tbody>\n",
       "    <tr>\n",
       "      <th>Mean</th>\n",
       "      <td>5.843333</td>\n",
       "      <td>3.054000</td>\n",
       "      <td>3.758667</td>\n",
       "      <td>1.198667</td>\n",
       "    </tr>\n",
       "    <tr>\n",
       "      <th>Median</th>\n",
       "      <td>5.800000</td>\n",
       "      <td>3.000000</td>\n",
       "      <td>4.350000</td>\n",
       "      <td>1.300000</td>\n",
       "    </tr>\n",
       "    <tr>\n",
       "      <th>Trimmed Mean (5%)</th>\n",
       "      <td>5.820588</td>\n",
       "      <td>3.046324</td>\n",
       "      <td>3.747794</td>\n",
       "      <td>1.191176</td>\n",
       "    </tr>\n",
       "    <tr>\n",
       "      <th>Trimmed Mean (10%)</th>\n",
       "      <td>5.808333</td>\n",
       "      <td>3.039167</td>\n",
       "      <td>3.760833</td>\n",
       "      <td>1.184167</td>\n",
       "    </tr>\n",
       "    <tr>\n",
       "      <th>Std</th>\n",
       "      <td>0.828066</td>\n",
       "      <td>0.433594</td>\n",
       "      <td>1.764420</td>\n",
       "      <td>0.763161</td>\n",
       "    </tr>\n",
       "    <tr>\n",
       "      <th>MAD</th>\n",
       "      <td>0.700000</td>\n",
       "      <td>0.250000</td>\n",
       "      <td>1.250000</td>\n",
       "      <td>0.700000</td>\n",
       "    </tr>\n",
       "    <tr>\n",
       "      <th>Trimmed Mean Std (5%)</th>\n",
       "      <td>0.691558</td>\n",
       "      <td>0.341904</td>\n",
       "      <td>1.635496</td>\n",
       "      <td>0.706636</td>\n",
       "    </tr>\n",
       "    <tr>\n",
       "      <th>Trimmed Mean Std (10%)</th>\n",
       "      <td>0.592394</td>\n",
       "      <td>0.270276</td>\n",
       "      <td>1.524374</td>\n",
       "      <td>0.648202</td>\n",
       "    </tr>\n",
       "  </tbody>\n",
       "</table>\n",
       "</div>"
      ],
      "text/plain": [
       "                        sepal_length  sepal_width  petal_length  petal_width\n",
       "name                                                                        \n",
       "Mean                        5.843333     3.054000      3.758667     1.198667\n",
       "Median                      5.800000     3.000000      4.350000     1.300000\n",
       "Trimmed Mean (5%)           5.820588     3.046324      3.747794     1.191176\n",
       "Trimmed Mean (10%)          5.808333     3.039167      3.760833     1.184167\n",
       "Std                         0.828066     0.433594      1.764420     0.763161\n",
       "MAD                         0.700000     0.250000      1.250000     0.700000\n",
       "Trimmed Mean Std (5%)       0.691558     0.341904      1.635496     0.706636\n",
       "Trimmed Mean Std (10%)      0.592394     0.270276      1.524374     0.648202"
      ]
     },
     "execution_count": 37,
     "metadata": {},
     "output_type": "execute_result"
    }
   ],
   "source": [
    "# Numerical summary only for numerical values\n",
    "iris_numerical = iris[iris.select_dtypes(include=[\"float\", \"int\"]).columns].copy()\n",
    "\n",
    "# Exploratory data analysis\n",
    "iris_numerical_summary = pd.DataFrame()\n",
    "\n",
    "def trim_mean_std(series: pd.Series, percentage):\n",
    "    sorted_data = np.sort(series.values)\n",
    "    trim = int(percentage * len(sorted_data))\n",
    "    trimmed_data = sorted_data[trim:-trim]\n",
    "    return np.std(trimmed_data)\n",
    "\n",
    "def mad(series: pd.Series):\n",
    "    median = series.median()\n",
    "    deviations = abs(series - median)\n",
    "    return deviations.median()\n",
    "\n",
    "\n",
    "index_list = [\n",
    "    \"Mean\",\n",
    "    \"Median\", \n",
    "    \"Trimmed Mean (5%)\",\n",
    "    \"Trimmed Mean (10%)\",\n",
    "    \"Std\",\n",
    "    \"MAD\", # Median Absolute Deviation\n",
    "    \"Trimmed Mean Std (5%)\",\n",
    "    \"Trimmed Mean Std (10%)\",\n",
    "    ]\n",
    "\n",
    "iris_numerical_summary[\"name\"] = index_list\n",
    "# Explore Data\n",
    "for column in iris_numerical.columns:\n",
    "        iris_numerical_summary[column] = [\n",
    "            iris_numerical[column].mean(),\n",
    "            iris_numerical[column].median(),\n",
    "            trim_mean(iris[column], 0.05),\n",
    "            trim_mean(iris[column], 0.10),\n",
    "            iris_numerical[column].std(),\n",
    "            mad(iris[column]),\n",
    "            trim_mean_std(iris_numerical[column], 0.05),\n",
    "            trim_mean_std(iris_numerical[column], 0.10),\n",
    "            \n",
    "            ]\n",
    "\n",
    "iris_numerical_summary = iris_numerical_summary.set_index(\"name\")\n",
    "\n",
    "iris_numerical_summary"
   ]
  },
  {
   "cell_type": "code",
   "execution_count": 28,
   "metadata": {},
   "outputs": [
    {
     "data": {
      "image/png": "[encoded data removed]",
      "text/plain": [
       "<Figure size 640x480 with 1 Axes>"
      ]
     },
     "metadata": {},
     "output_type": "display_data"
    },
    {
     "data": {
      "image/png": "[encoded data removed]",
      "text/plain": [
       "<Figure size 640x480 with 1 Axes>"
      ]
     },
     "metadata": {},
     "output_type": "display_data"
    },
    {
     "data": {
      "image/png": "[encoded data removed]",
      "text/plain": [
       "<Figure size 640x480 with 1 Axes>"
      ]
     },
     "metadata": {},
     "output_type": "display_data"
    },
    {
     "data": {
      "image/png": "[encoded data removed]",
      "text/plain": [
       "<Figure size 640x480 with 1 Axes>"
      ]
     },
     "metadata": {},
     "output_type": "display_data"
    }
   ],
   "source": [
    "# Boxplots\n",
    "\n",
    "for column in iris_numerical_summary.columns:\n",
    "    iris_numerical_summary.boxplot(column=column)\n",
    "    plt.show()"
   ]
  },
  {
   "cell_type": "code",
   "execution_count": 43,
   "metadata": {},
   "outputs": [
    {
     "data": {
      "text/html": [
       "<div>\n",
       "<style scoped>\n",
       "    .dataframe tbody tr th:only-of-type {\n",
       "        vertical-align: middle;\n",
       "    }\n",
       "\n",
       "    .dataframe tbody tr th {\n",
       "        vertical-align: top;\n",
       "    }\n",
       "\n",
       "    .dataframe thead th {\n",
       "        text-align: right;\n",
       "    }\n",
       "</style>\n",
       "<table border=\"1\" class=\"dataframe\">\n",
       "  <thead>\n",
       "    <tr style=\"text-align: right;\">\n",
       "      <th></th>\n",
       "      <th>sepal_length</th>\n",
       "      <th>sepal_width</th>\n",
       "      <th>petal_length</th>\n",
       "      <th>petal_width</th>\n",
       "    </tr>\n",
       "  </thead>\n",
       "  <tbody>\n",
       "    <tr>\n",
       "      <th>0</th>\n",
       "      <td>4</td>\n",
       "      <td>3</td>\n",
       "      <td>3</td>\n",
       "      <td>3</td>\n",
       "    </tr>\n",
       "  </tbody>\n",
       "</table>\n",
       "</div>"
      ],
      "text/plain": [
       "   sepal_length  sepal_width  petal_length  petal_width\n",
       "0             4            3             3            3"
      ]
     },
     "execution_count": 43,
     "metadata": {},
     "output_type": "execute_result"
    }
   ],
   "source": [
    "# freedman diaconis\n",
    "def get_bin_width(series: pd.Series):\n",
    "  q1 = series.quantile(0.25)\n",
    "  q3 = series.quantile(0.75)\n",
    "\n",
    "  iqr = q3 - q1\n",
    "\n",
    "  return math.ceil(2 * iqr / (series.count()**(1/3)))\n",
    "\n",
    "def get_bin_number(series: pd.Series):\n",
    "  width = get_bin_width(series)\n",
    "  max = series.max()\n",
    "  min = series.min()\n",
    "\n",
    "  return math.ceil((max - min) / width)\n",
    "\n",
    "iris_bin_number = pd.DataFrame()\n",
    "\n",
    "for column in iris_numerical.columns:\n",
    "  iris_bin_number[column] = [get_bin_number(iris_numerical[column])]\n",
    "\n",
    "iris_bin_number\n",
    "\n",
    "\n",
    "# The bins are extremely small. I shall rely on boxplots and previous calculations."
   ]
  },
  {
   "cell_type": "markdown",
   "metadata": {},
   "source": [
    "### Exploratory Data Analysis Report\n",
    "\n",
    "##### - The mean, median and trimmed means are close to each other for all attributes which is a good sign.\n",
    "##### - The boxplots show that the 25th and 75th percentile are not that far off from the minimum and maximum, which is a good sign. No outliers detected in the boxplots.\n",
    "##### - I am satisfied woth the data so, I move onto classification\n",
    "\n"
   ]
  },
  {
   "cell_type": "code",
   "execution_count": null,
   "metadata": {},
   "outputs": [],
   "source": []
  }
 ],
 "metadata": {
  "kernelspec": {
   "display_name": "Python 3 (ipykernel)",
   "language": "python",
   "name": "python3"
  },
  "language_info": {
   "codemirror_mode": {
    "name": "ipython",
    "version": 3
   },
   "file_extension": ".py",
   "mimetype": "text/x-python",
   "name": "python",
   "nbconvert_exporter": "python",
   "pygments_lexer": "ipython3",
   "version": "3.11.5"
  }
 },
 "nbformat": 4,
 "nbformat_minor": 2
}
