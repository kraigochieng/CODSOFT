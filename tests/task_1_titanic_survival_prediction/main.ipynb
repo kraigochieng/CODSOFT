{
 "cells": [
  {
   "cell_type": "code",
   "execution_count": 25,
   "metadata": {},
   "outputs": [],
   "source": [
    "import pandas as pd\n",
    "import numpy as np\n",
    "import seaborn as sns\n",
    "import matplotlib.pyplot as plt\n",
    "\n",
    "sns.set_theme(style=\"whitegrid\")"
   ]
  },
  {
   "cell_type": "code",
   "execution_count": 26,
   "metadata": {},
   "outputs": [],
   "source": [
    "# This is to suppress a warning below\n",
    "\n",
    "import warnings\n",
    "warnings.simplefilter(action='ignore', category=FutureWarning)"
   ]
  },
  {
   "cell_type": "markdown",
   "metadata": {},
   "source": [
    "##### The .csv file passes git file limit. The csv can be found on https://www.kaggle.com/datasets/mlg-ulb/creditcardfraud"
   ]
  },
  {
   "cell_type": "code",
   "execution_count": 27,
   "metadata": {},
   "outputs": [],
   "source": [
    "titanic = pd.read_csv(\"Titanic-Dataset.csv\")"
   ]
  },
  {
   "cell_type": "code",
   "execution_count": 28,
   "metadata": {},
   "outputs": [
    {
     "name": "stdout",
     "output_type": "stream",
     "text": [
      "<class 'pandas.core.frame.DataFrame'>\n",
      "RangeIndex: 891 entries, 0 to 890\n",
      "Data columns (total 12 columns):\n",
      " #   Column       Non-Null Count  Dtype  \n",
      "---  ------       --------------  -----  \n",
      " 0   PassengerId  891 non-null    int64  \n",
      " 1   Survived     891 non-null    int64  \n",
      " 2   Pclass       891 non-null    int64  \n",
      " 3   Name         891 non-null    object \n",
      " 4   Sex          891 non-null    object \n",
      " 5   Age          714 non-null    float64\n",
      " 6   SibSp        891 non-null    int64  \n",
      " 7   Parch        891 non-null    int64  \n",
      " 8   Ticket       891 non-null    object \n",
      " 9   Fare         891 non-null    float64\n",
      " 10  Cabin        204 non-null    object \n",
      " 11  Embarked     889 non-null    object \n",
      "dtypes: float64(2), int64(5), object(5)\n",
      "memory usage: 83.7+ KB\n"
     ]
    }
   ],
   "source": [
    "titanic.info()"
   ]
  },
  {
   "cell_type": "code",
   "execution_count": 29,
   "metadata": {},
   "outputs": [
    {
     "data": {
      "text/html": [
       "<div>\n",
       "<style scoped>\n",
       "    .dataframe tbody tr th:only-of-type {\n",
       "        vertical-align: middle;\n",
       "    }\n",
       "\n",
       "    .dataframe tbody tr th {\n",
       "        vertical-align: top;\n",
       "    }\n",
       "\n",
       "    .dataframe thead th {\n",
       "        text-align: right;\n",
       "    }\n",
       "</style>\n",
       "<table border=\"1\" class=\"dataframe\">\n",
       "  <thead>\n",
       "    <tr style=\"text-align: right;\">\n",
       "      <th></th>\n",
       "      <th>PassengerId</th>\n",
       "      <th>Survived</th>\n",
       "      <th>Pclass</th>\n",
       "      <th>Name</th>\n",
       "      <th>Sex</th>\n",
       "      <th>Age</th>\n",
       "      <th>SibSp</th>\n",
       "      <th>Parch</th>\n",
       "      <th>Ticket</th>\n",
       "      <th>Fare</th>\n",
       "      <th>Cabin</th>\n",
       "      <th>Embarked</th>\n",
       "    </tr>\n",
       "  </thead>\n",
       "  <tbody>\n",
       "    <tr>\n",
       "      <th>0</th>\n",
       "      <td>1</td>\n",
       "      <td>0</td>\n",
       "      <td>3</td>\n",
       "      <td>Braund, Mr. Owen Harris</td>\n",
       "      <td>male</td>\n",
       "      <td>22.0</td>\n",
       "      <td>1</td>\n",
       "      <td>0</td>\n",
       "      <td>A/5 21171</td>\n",
       "      <td>7.2500</td>\n",
       "      <td>NaN</td>\n",
       "      <td>S</td>\n",
       "    </tr>\n",
       "    <tr>\n",
       "      <th>1</th>\n",
       "      <td>2</td>\n",
       "      <td>1</td>\n",
       "      <td>1</td>\n",
       "      <td>Cumings, Mrs. John Bradley (Florence Briggs Th...</td>\n",
       "      <td>female</td>\n",
       "      <td>38.0</td>\n",
       "      <td>1</td>\n",
       "      <td>0</td>\n",
       "      <td>PC 17599</td>\n",
       "      <td>71.2833</td>\n",
       "      <td>C85</td>\n",
       "      <td>C</td>\n",
       "    </tr>\n",
       "    <tr>\n",
       "      <th>2</th>\n",
       "      <td>3</td>\n",
       "      <td>1</td>\n",
       "      <td>3</td>\n",
       "      <td>Heikkinen, Miss. Laina</td>\n",
       "      <td>female</td>\n",
       "      <td>26.0</td>\n",
       "      <td>0</td>\n",
       "      <td>0</td>\n",
       "      <td>STON/O2. 3101282</td>\n",
       "      <td>7.9250</td>\n",
       "      <td>NaN</td>\n",
       "      <td>S</td>\n",
       "    </tr>\n",
       "    <tr>\n",
       "      <th>3</th>\n",
       "      <td>4</td>\n",
       "      <td>1</td>\n",
       "      <td>1</td>\n",
       "      <td>Futrelle, Mrs. Jacques Heath (Lily May Peel)</td>\n",
       "      <td>female</td>\n",
       "      <td>35.0</td>\n",
       "      <td>1</td>\n",
       "      <td>0</td>\n",
       "      <td>113803</td>\n",
       "      <td>53.1000</td>\n",
       "      <td>C123</td>\n",
       "      <td>S</td>\n",
       "    </tr>\n",
       "    <tr>\n",
       "      <th>4</th>\n",
       "      <td>5</td>\n",
       "      <td>0</td>\n",
       "      <td>3</td>\n",
       "      <td>Allen, Mr. William Henry</td>\n",
       "      <td>male</td>\n",
       "      <td>35.0</td>\n",
       "      <td>0</td>\n",
       "      <td>0</td>\n",
       "      <td>373450</td>\n",
       "      <td>8.0500</td>\n",
       "      <td>NaN</td>\n",
       "      <td>S</td>\n",
       "    </tr>\n",
       "  </tbody>\n",
       "</table>\n",
       "</div>"
      ],
      "text/plain": [
       "   PassengerId  Survived  Pclass  \\\n",
       "0            1         0       3   \n",
       "1            2         1       1   \n",
       "2            3         1       3   \n",
       "3            4         1       1   \n",
       "4            5         0       3   \n",
       "\n",
       "                                                Name     Sex   Age  SibSp  \\\n",
       "0                            Braund, Mr. Owen Harris    male  22.0      1   \n",
       "1  Cumings, Mrs. John Bradley (Florence Briggs Th...  female  38.0      1   \n",
       "2                             Heikkinen, Miss. Laina  female  26.0      0   \n",
       "3       Futrelle, Mrs. Jacques Heath (Lily May Peel)  female  35.0      1   \n",
       "4                           Allen, Mr. William Henry    male  35.0      0   \n",
       "\n",
       "   Parch            Ticket     Fare Cabin Embarked  \n",
       "0      0         A/5 21171   7.2500   NaN        S  \n",
       "1      0          PC 17599  71.2833   C85        C  \n",
       "2      0  STON/O2. 3101282   7.9250   NaN        S  \n",
       "3      0            113803  53.1000  C123        S  \n",
       "4      0            373450   8.0500   NaN        S  "
      ]
     },
     "execution_count": 29,
     "metadata": {},
     "output_type": "execute_result"
    }
   ],
   "source": [
    "titanic.head()"
   ]
  },
  {
   "cell_type": "code",
   "execution_count": 30,
   "metadata": {},
   "outputs": [],
   "source": [
    "# I remove passenger id and name since they are unique identifiers of entities\n",
    "# I remove ticket since the ticket number has very many unique values\n",
    "titanic.drop(columns=[\"PassengerId\", \"Name\", \"Ticket\"], axis=1, inplace=True)"
   ]
  },
  {
   "cell_type": "code",
   "execution_count": 31,
   "metadata": {},
   "outputs": [
    {
     "name": "stdout",
     "output_type": "stream",
     "text": [
      "<class 'pandas.core.frame.DataFrame'>\n",
      "RangeIndex: 891 entries, 0 to 890\n",
      "Data columns (total 9 columns):\n",
      " #   Column    Non-Null Count  Dtype  \n",
      "---  ------    --------------  -----  \n",
      " 0   Survived  891 non-null    int64  \n",
      " 1   Pclass    891 non-null    int64  \n",
      " 2   Sex       891 non-null    object \n",
      " 3   Age       714 non-null    float64\n",
      " 4   SibSp     891 non-null    int64  \n",
      " 5   Parch     891 non-null    int64  \n",
      " 6   Fare      891 non-null    float64\n",
      " 7   Cabin     204 non-null    object \n",
      " 8   Embarked  889 non-null    object \n",
      "dtypes: float64(2), int64(4), object(3)\n",
      "memory usage: 62.8+ KB\n"
     ]
    }
   ],
   "source": [
    "titanic.info()"
   ]
  },
  {
   "cell_type": "code",
   "execution_count": 32,
   "metadata": {},
   "outputs": [
    {
     "name": "stdout",
     "output_type": "stream",
     "text": [
      "<class 'pandas.core.frame.DataFrame'>\n",
      "RangeIndex: 891 entries, 0 to 890\n",
      "Data columns (total 9 columns):\n",
      " #   Column    Non-Null Count  Dtype   \n",
      "---  ------    --------------  -----   \n",
      " 0   Survived  891 non-null    int64   \n",
      " 1   Pclass    891 non-null    category\n",
      " 2   Sex       891 non-null    category\n",
      " 3   Age       714 non-null    float64 \n",
      " 4   SibSp     891 non-null    int64   \n",
      " 5   Parch     891 non-null    int64   \n",
      " 6   Fare      891 non-null    float64 \n",
      " 7   Cabin     204 non-null    category\n",
      " 8   Embarked  889 non-null    category\n",
      "dtypes: category(4), float64(2), int64(3)\n",
      "memory usage: 44.9 KB\n"
     ]
    }
   ],
   "source": [
    "# Type conversion\n",
    "titanic[\"Pclass\"] = titanic[\"Pclass\"].astype(\"object\")\n",
    "# Converting all object types to category types\n",
    "for column in titanic.select_dtypes(include=\"object\"):\n",
    "    titanic[column] = titanic[column].astype(\"category\")\n",
    "titanic.info()"
   ]
  },
  {
   "cell_type": "code",
   "execution_count": 33,
   "metadata": {},
   "outputs": [
    {
     "data": {
      "text/plain": [
       "Survived    0.000000\n",
       "Pclass      0.000000\n",
       "Sex         0.000000\n",
       "Age         0.198653\n",
       "SibSp       0.000000\n",
       "Parch       0.000000\n",
       "Fare        0.000000\n",
       "Cabin       0.771044\n",
       "Embarked    0.002245\n",
       "dtype: float64"
      ]
     },
     "execution_count": 33,
     "metadata": {},
     "output_type": "execute_result"
    }
   ],
   "source": [
    "# Check if there are null values\n",
    "titanic.isnull().sum() / len(titanic)"
   ]
  },
  {
   "cell_type": "markdown",
   "metadata": {},
   "source": [
    "#### Cabin has too many null values"
   ]
  },
  {
   "cell_type": "code",
   "execution_count": 34,
   "metadata": {},
   "outputs": [
    {
     "name": "stdout",
     "output_type": "stream",
     "text": [
      "<class 'pandas.core.frame.DataFrame'>\n",
      "RangeIndex: 891 entries, 0 to 890\n",
      "Data columns (total 8 columns):\n",
      " #   Column    Non-Null Count  Dtype   \n",
      "---  ------    --------------  -----   \n",
      " 0   Survived  891 non-null    int64   \n",
      " 1   Pclass    891 non-null    category\n",
      " 2   Sex       891 non-null    category\n",
      " 3   Age       714 non-null    float64 \n",
      " 4   SibSp     891 non-null    int64   \n",
      " 5   Parch     891 non-null    int64   \n",
      " 6   Fare      891 non-null    float64 \n",
      " 7   Embarked  889 non-null    category\n",
      "dtypes: category(3), float64(2), int64(3)\n",
      "memory usage: 37.9 KB\n"
     ]
    }
   ],
   "source": [
    "# Look for column that has too many null values and drop it\n",
    "threshold = 0.5 * len(titanic) # threshold here is 50 percent\n",
    "\n",
    "titanic.dropna(thresh=threshold, axis=1, inplace=True)\n",
    "titanic.info()"
   ]
  },
  {
   "cell_type": "markdown",
   "metadata": {},
   "source": [
    "##### Cabin is dropped since it has too many null values, even imputation will be hard to do."
   ]
  },
  {
   "cell_type": "code",
   "execution_count": 35,
   "metadata": {},
   "outputs": [
    {
     "name": "stdout",
     "output_type": "stream",
     "text": [
      "<class 'pandas.core.frame.DataFrame'>\n",
      "RangeIndex: 891 entries, 0 to 890\n",
      "Data columns (total 11 columns):\n",
      " #   Column            Non-Null Count  Dtype   \n",
      "---  ------            --------------  -----   \n",
      " 0   Survived          891 non-null    int64   \n",
      " 1   Pclass            891 non-null    category\n",
      " 2   Sex               891 non-null    category\n",
      " 3   Age               714 non-null    float64 \n",
      " 4   SibSp             891 non-null    int64   \n",
      " 5   Parch             891 non-null    int64   \n",
      " 6   Fare              891 non-null    float64 \n",
      " 7   Embarked          889 non-null    category\n",
      " 8   Pclass_encoded    891 non-null    Int64   \n",
      " 9   Sex_encoded       891 non-null    Int64   \n",
      " 10  Embarked_encoded  889 non-null    Int64   \n",
      "dtypes: Int64(3), category(3), float64(2), int64(3)\n",
      "memory usage: 61.4 KB\n"
     ]
    }
   ],
   "source": [
    "# Encoding categorical variables, this will allow for things like imputation on categorical values\n",
    "\n",
    "# Encoding and storing values\n",
    "for column in titanic.select_dtypes(include=\"category\").columns:\n",
    "    column_encoded = f\"{column}_encoded\"\n",
    "    # This is to allow holding of null values too\n",
    "    titanic[column_encoded] = titanic[column].cat.codes.astype(\"Int64\") #  To allow null values\n",
    "    titanic[column_encoded].replace(-1, pd.NA, inplace=True) # To replace -1 with null for imputation\n",
    "titanic.info()"
   ]
  },
  {
   "cell_type": "code",
   "execution_count": 36,
   "metadata": {},
   "outputs": [
    {
     "name": "stdout",
     "output_type": "stream",
     "text": [
      "<class 'pandas.core.frame.DataFrame'>\n",
      "RangeIndex: 891 entries, 0 to 890\n",
      "Data columns (total 11 columns):\n",
      " #   Column            Non-Null Count  Dtype   \n",
      "---  ------            --------------  -----   \n",
      " 0   Survived          891 non-null    int64   \n",
      " 1   Pclass            891 non-null    category\n",
      " 2   Sex               891 non-null    category\n",
      " 3   Age               891 non-null    float64 \n",
      " 4   SibSp             891 non-null    int64   \n",
      " 5   Parch             891 non-null    int64   \n",
      " 6   Fare              891 non-null    float64 \n",
      " 7   Embarked          891 non-null    category\n",
      " 8   Pclass_encoded    891 non-null    Int64   \n",
      " 9   Sex_encoded       891 non-null    Int64   \n",
      " 10  Embarked_encoded  891 non-null    float64 \n",
      "dtypes: Int64(2), category(3), float64(3), int64(3)\n",
      "memory usage: 60.5 KB\n"
     ]
    }
   ],
   "source": [
    "from sklearn.experimental import enable_iterative_imputer\n",
    "from sklearn.impute import IterativeImputer\n",
    "\n",
    "# Remove categorical values for imputation\n",
    "titanic_for_eda = titanic.copy()\n",
    "\n",
    "# Excluding category since they are categories\n",
    "# Exclusing object since it is the category that has null values\n",
    "titanic = titanic.select_dtypes(exclude=[\"category\"])\n",
    "\n",
    "imputer = IterativeImputer()\n",
    "imputed_values = imputer.fit_transform(titanic)\n",
    "titanic.loc[:,:] = imputed_values\n",
    "\n",
    "# Replace with imputed columns for EDA purposes\n",
    "for column in titanic.columns:\n",
    "    titanic_for_eda[column] = titanic[column]\n",
    "\n",
    "# Adding category values for imputed columns\n",
    "for column in titanic_for_eda.select_dtypes(include=[\"category\"]).columns:\n",
    "    column_encoded = f\"{column}_encoded\"\n",
    "\n",
    "    titanic_for_eda[column] = titanic_for_eda[column_encoded].apply(\n",
    "        lambda x: titanic_for_eda[column].cat.categories[int(x)]\n",
    "        )\n",
    "    \n",
    "    # Return the type to category since they are being changed to object\n",
    "    titanic_for_eda[column] = titanic_for_eda[column].astype(\"category\")\n",
    "\n",
    "titanic_for_eda.info()"
   ]
  },
  {
   "cell_type": "code",
   "execution_count": 37,
   "metadata": {},
   "outputs": [
    {
     "data": {
      "text/plain": [
       "Survived\n",
       "0    0.616162\n",
       "1    0.383838\n",
       "Name: proportion, dtype: float64"
      ]
     },
     "execution_count": 37,
     "metadata": {},
     "output_type": "execute_result"
    }
   ],
   "source": [
    "# Know the proportions of the feature class\n",
    "titanic[\"Survived\"].value_counts(normalize=True)"
   ]
  },
  {
   "cell_type": "markdown",
   "metadata": {},
   "source": [
    "##### A mild imbalance. No downsampling shall be done."
   ]
  },
  {
   "cell_type": "code",
   "execution_count": 38,
   "metadata": {},
   "outputs": [
    {
     "name": "stdout",
     "output_type": "stream",
     "text": [
      "<class 'pandas.core.frame.DataFrame'>\n",
      "RangeIndex: 891 entries, 0 to 890\n",
      "Data columns (total 11 columns):\n",
      " #   Column            Non-Null Count  Dtype   \n",
      "---  ------            --------------  -----   \n",
      " 0   Survived          891 non-null    int64   \n",
      " 1   Pclass            891 non-null    category\n",
      " 2   Sex               891 non-null    category\n",
      " 3   Age               891 non-null    float64 \n",
      " 4   SibSp             891 non-null    int64   \n",
      " 5   Parch             891 non-null    int64   \n",
      " 6   Fare              891 non-null    float64 \n",
      " 7   Embarked          891 non-null    category\n",
      " 8   Pclass_encoded    891 non-null    Int64   \n",
      " 9   Sex_encoded       891 non-null    Int64   \n",
      " 10  Embarked_encoded  891 non-null    float64 \n",
      "dtypes: Int64(2), category(3), float64(3), int64(3)\n",
      "memory usage: 60.5 KB\n"
     ]
    }
   ],
   "source": [
    "titanic_for_eda.info()"
   ]
  },
  {
   "cell_type": "code",
   "execution_count": 39,
   "metadata": {},
   "outputs": [
    {
     "name": "stdout",
     "output_type": "stream",
     "text": [
      "Categorical Column: Pclass\n",
      "\n",
      "Category Ratio:  Pclass\n",
      "3    0.551066\n",
      "1    0.242424\n",
      "2    0.206510\n",
      "Name: proportion, dtype: float64\n",
      "\n",
      "Survived  Pclass\n",
      "0         1         0.37\n",
      "          2         0.53\n",
      "          3         0.76\n",
      "1         1         0.63\n",
      "          2         0.47\n",
      "          3         0.24\n",
      "Name: Age, dtype: float64\n"
     ]
    },
    {
     "data": {
      "image/png": "[encoded data removed]",
      "text/plain": [
       "<Figure size 640x480 with 1 Axes>"
      ]
     },
     "metadata": {},
     "output_type": "display_data"
    },
    {
     "name": "stdout",
     "output_type": "stream",
     "text": [
      "Categorical Column: Sex\n",
      "\n",
      "Category Ratio:  Sex\n",
      "male      0.647587\n",
      "female    0.352413\n",
      "Name: proportion, dtype: float64\n",
      "\n",
      "Survived  Sex   \n",
      "0         female    0.26\n",
      "          male      0.81\n",
      "1         female    0.74\n",
      "          male      0.19\n",
      "Name: Age, dtype: float64\n"
     ]
    },
    {
     "data": {
      "image/png": "[encoded data removed]",
      "text/plain": [
       "<Figure size 640x480 with 1 Axes>"
      ]
     },
     "metadata": {},
     "output_type": "display_data"
    },
    {
     "name": "stdout",
     "output_type": "stream",
     "text": [
      "Categorical Column: Embarked\n",
      "\n",
      "Category Ratio:  Embarked\n",
      "S    0.722783\n",
      "C    0.188552\n",
      "Q    0.088664\n",
      "Name: proportion, dtype: float64\n",
      "\n",
      "Survived  Embarked\n",
      "0         C           0.45\n",
      "          Q           0.59\n",
      "          S           0.66\n",
      "1         C           0.55\n",
      "          Q           0.41\n",
      "          S           0.34\n",
      "Name: Age, dtype: float64\n"
     ]
    },
    {
     "data": {
      "image/png": "[encoded data removed]",
      "text/plain": [
       "<Figure size 640x480 with 1 Axes>"
      ]
     },
     "metadata": {},
     "output_type": "display_data"
    }
   ],
   "source": [
    "# Looking at how categorical values are split in the classes\n",
    "for column in titanic_for_eda.select_dtypes(include=[\"category\"]).columns:\n",
    "    print(\"Categorical Column:\",column)\n",
    "    print(\"\")\n",
    "    print(\"Category Ratio: \",titanic_for_eda[column].value_counts(normalize=True))\n",
    "    print(\"\")\n",
    "    grouping_order = [\"Survived\",column]\n",
    "\n",
    "    group_by_column = titanic_for_eda.groupby([column])[\"Age\"]\n",
    "    group_by_column_and_class = titanic_for_eda.groupby(grouping_order)[\"Age\"]\n",
    "    \n",
    "    category_to_class_ratio = group_by_column_and_class.count() / group_by_column.count()\n",
    "    \n",
    "    print(category_to_class_ratio.round(2))\n",
    "    \n",
    "    sns.countplot(x=titanic_for_eda[grouping_order[0]], hue=titanic_for_eda[grouping_order[1]])\n",
    "    plt.show()"
   ]
  },
  {
   "cell_type": "markdown",
   "metadata": {},
   "source": [
    "#### For the sex, we can see males did not survive even though they were the majority\n",
    "#### For Pclass, we can see that even though Pclass 3 has the largest ratio, it doesnt have the largest survivors"
   ]
  },
  {
   "cell_type": "code",
   "execution_count": 40,
   "metadata": {},
   "outputs": [
    {
     "data": {
      "text/html": [
       "<div>\n",
       "<style scoped>\n",
       "    .dataframe tbody tr th:only-of-type {\n",
       "        vertical-align: middle;\n",
       "    }\n",
       "\n",
       "    .dataframe tbody tr th {\n",
       "        vertical-align: top;\n",
       "    }\n",
       "\n",
       "    .dataframe thead th {\n",
       "        text-align: right;\n",
       "    }\n",
       "</style>\n",
       "<table border=\"1\" class=\"dataframe\">\n",
       "  <thead>\n",
       "    <tr style=\"text-align: right;\">\n",
       "      <th></th>\n",
       "      <th>Survived</th>\n",
       "      <th>Age</th>\n",
       "      <th>SibSp</th>\n",
       "      <th>Parch</th>\n",
       "      <th>Fare</th>\n",
       "      <th>Pclass_encoded</th>\n",
       "      <th>Sex_encoded</th>\n",
       "      <th>Embarked_encoded</th>\n",
       "    </tr>\n",
       "  </thead>\n",
       "  <tbody>\n",
       "    <tr>\n",
       "      <th>count</th>\n",
       "      <td>891.000000</td>\n",
       "      <td>891.000000</td>\n",
       "      <td>891.000000</td>\n",
       "      <td>891.000000</td>\n",
       "      <td>891.000000</td>\n",
       "      <td>891.0</td>\n",
       "      <td>891.0</td>\n",
       "      <td>891.000000</td>\n",
       "    </tr>\n",
       "    <tr>\n",
       "      <th>mean</th>\n",
       "      <td>0.383838</td>\n",
       "      <td>29.269499</td>\n",
       "      <td>0.523008</td>\n",
       "      <td>0.381594</td>\n",
       "      <td>32.204208</td>\n",
       "      <td>1.308642</td>\n",
       "      <td>0.647587</td>\n",
       "      <td>1.534815</td>\n",
       "    </tr>\n",
       "    <tr>\n",
       "      <th>std</th>\n",
       "      <td>0.486592</td>\n",
       "      <td>13.701914</td>\n",
       "      <td>1.102743</td>\n",
       "      <td>0.806057</td>\n",
       "      <td>49.693429</td>\n",
       "      <td>0.836071</td>\n",
       "      <td>0.47799</td>\n",
       "      <td>0.791306</td>\n",
       "    </tr>\n",
       "    <tr>\n",
       "      <th>min</th>\n",
       "      <td>0.000000</td>\n",
       "      <td>-4.915922</td>\n",
       "      <td>0.000000</td>\n",
       "      <td>0.000000</td>\n",
       "      <td>0.000000</td>\n",
       "      <td>0.0</td>\n",
       "      <td>0.0</td>\n",
       "      <td>0.000000</td>\n",
       "    </tr>\n",
       "    <tr>\n",
       "      <th>25%</th>\n",
       "      <td>0.000000</td>\n",
       "      <td>21.000000</td>\n",
       "      <td>0.000000</td>\n",
       "      <td>0.000000</td>\n",
       "      <td>7.910400</td>\n",
       "      <td>1.0</td>\n",
       "      <td>0.0</td>\n",
       "      <td>1.000000</td>\n",
       "    </tr>\n",
       "    <tr>\n",
       "      <th>50%</th>\n",
       "      <td>0.000000</td>\n",
       "      <td>28.603240</td>\n",
       "      <td>0.000000</td>\n",
       "      <td>0.000000</td>\n",
       "      <td>14.454200</td>\n",
       "      <td>2.0</td>\n",
       "      <td>1.0</td>\n",
       "      <td>2.000000</td>\n",
       "    </tr>\n",
       "    <tr>\n",
       "      <th>75%</th>\n",
       "      <td>1.000000</td>\n",
       "      <td>36.518960</td>\n",
       "      <td>1.000000</td>\n",
       "      <td>0.000000</td>\n",
       "      <td>31.000000</td>\n",
       "      <td>2.0</td>\n",
       "      <td>1.0</td>\n",
       "      <td>2.000000</td>\n",
       "    </tr>\n",
       "    <tr>\n",
       "      <th>max</th>\n",
       "      <td>1.000000</td>\n",
       "      <td>80.000000</td>\n",
       "      <td>8.000000</td>\n",
       "      <td>6.000000</td>\n",
       "      <td>512.329200</td>\n",
       "      <td>2.0</td>\n",
       "      <td>1.0</td>\n",
       "      <td>2.000000</td>\n",
       "    </tr>\n",
       "  </tbody>\n",
       "</table>\n",
       "</div>"
      ],
      "text/plain": [
       "         Survived         Age       SibSp       Parch        Fare  \\\n",
       "count  891.000000  891.000000  891.000000  891.000000  891.000000   \n",
       "mean     0.383838   29.269499    0.523008    0.381594   32.204208   \n",
       "std      0.486592   13.701914    1.102743    0.806057   49.693429   \n",
       "min      0.000000   -4.915922    0.000000    0.000000    0.000000   \n",
       "25%      0.000000   21.000000    0.000000    0.000000    7.910400   \n",
       "50%      0.000000   28.603240    0.000000    0.000000   14.454200   \n",
       "75%      1.000000   36.518960    1.000000    0.000000   31.000000   \n",
       "max      1.000000   80.000000    8.000000    6.000000  512.329200   \n",
       "\n",
       "       Pclass_encoded  Sex_encoded  Embarked_encoded  \n",
       "count           891.0        891.0        891.000000  \n",
       "mean         1.308642     0.647587          1.534815  \n",
       "std          0.836071      0.47799          0.791306  \n",
       "min               0.0          0.0          0.000000  \n",
       "25%               1.0          0.0          1.000000  \n",
       "50%               2.0          1.0          2.000000  \n",
       "75%               2.0          1.0          2.000000  \n",
       "max               2.0          1.0          2.000000  "
      ]
     },
     "execution_count": 40,
     "metadata": {},
     "output_type": "execute_result"
    }
   ],
   "source": [
    "titanic.describe()"
   ]
  },
  {
   "cell_type": "code",
   "execution_count": 41,
   "metadata": {},
   "outputs": [
    {
     "name": "stdout",
     "output_type": "stream",
     "text": [
      "<class 'pandas.core.frame.DataFrame'>\n",
      "RangeIndex: 891 entries, 0 to 890\n",
      "Data columns (total 8 columns):\n",
      " #   Column            Non-Null Count  Dtype  \n",
      "---  ------            --------------  -----  \n",
      " 0   Survived          891 non-null    int64  \n",
      " 1   Age               891 non-null    float64\n",
      " 2   SibSp             891 non-null    int64  \n",
      " 3   Parch             891 non-null    int64  \n",
      " 4   Fare              891 non-null    float64\n",
      " 5   Pclass_encoded    891 non-null    Int64  \n",
      " 6   Sex_encoded       891 non-null    Int64  \n",
      " 7   Embarked_encoded  891 non-null    float64\n",
      "dtypes: Int64(2), float64(3), int64(3)\n",
      "memory usage: 57.6 KB\n",
      "Age\n"
     ]
    },
    {
     "data": {
      "image/png": "[encoded data removed]",
      "text/plain": [
       "<Figure size 640x480 with 1 Axes>"
      ]
     },
     "metadata": {},
     "output_type": "display_data"
    },
    {
     "name": "stdout",
     "output_type": "stream",
     "text": [
      "SibSp\n"
     ]
    },
    {
     "data": {
      "image/png": "[encoded data removed]",
      "text/plain": [
       "<Figure size 640x480 with 1 Axes>"
      ]
     },
     "metadata": {},
     "output_type": "display_data"
    },
    {
     "name": "stdout",
     "output_type": "stream",
     "text": [
      "Parch\n"
     ]
    },
    {
     "data": {
      "image/png": "[encoded data removed]",
      "text/plain": [
       "<Figure size 640x480 with 1 Axes>"
      ]
     },
     "metadata": {},
     "output_type": "display_data"
    },
    {
     "name": "stdout",
     "output_type": "stream",
     "text": [
      "Fare\n"
     ]
    },
    {
     "data": {
      "image/png": "[encoded data removed]",
      "text/plain": [
       "<Figure size 640x480 with 1 Axes>"
      ]
     },
     "metadata": {},
     "output_type": "display_data"
    }
   ],
   "source": [
    "titanic.info()\n",
    "for column in titanic.drop(columns=[\"Pclass_encoded\", \"Sex_encoded\", \"Embarked_encoded\",\"Survived\"], axis=1, inplace=False).columns:\n",
    "    print(column)\n",
    "    sns.violinplot(x=titanic[\"Survived\"], y=titanic[column], inner=\"quartile\")\n",
    "    plt.show()"
   ]
  },
  {
   "cell_type": "markdown",
   "metadata": {},
   "source": [
    "#### No striking insight from the numerical data"
   ]
  },
  {
   "cell_type": "code",
   "execution_count": 42,
   "metadata": {},
   "outputs": [
    {
     "name": "stdout",
     "output_type": "stream",
     "text": [
      "K Value: 1\n",
      "==================\n",
      "K Best: ['Fare']\n",
      "RFE: ['Fare']\n",
      "\n",
      "K Value: 2\n",
      "==================\n",
      "K Best: ['Age', 'Fare']\n",
      "RFE: ['Age', 'Fare']\n",
      "\n",
      "K Value: 3\n",
      "==================\n",
      "K Best: ['Age', 'Fare', 'Sex_encoded']\n",
      "RFE: ['Age', 'Fare', 'Sex_encoded']\n",
      "\n",
      "K Value: 4\n",
      "==================\n",
      "K Best: ['Age', 'Fare', 'Pclass_encoded', 'Sex_encoded']\n",
      "RFE: ['Age', 'Fare', 'Pclass_encoded', 'Sex_encoded']\n",
      "\n",
      "K Value: 5\n",
      "==================\n",
      "K Best: ['Age', 'SibSp', 'Fare', 'Pclass_encoded', 'Sex_encoded']\n",
      "RFE: ['Age', 'SibSp', 'Fare', 'Pclass_encoded', 'Sex_encoded']\n",
      "\n",
      "K Value: 6\n",
      "==================\n",
      "K Best: ['Age', 'SibSp', 'Parch', 'Fare', 'Pclass_encoded', 'Sex_encoded']\n",
      "RFE: ['Age', 'SibSp', 'Parch', 'Fare', 'Pclass_encoded', 'Sex_encoded']\n",
      "\n",
      "K Value: 7\n",
      "==================\n",
      "K Best: ['Age', 'SibSp', 'Parch', 'Fare', 'Pclass_encoded', 'Sex_encoded', 'Embarked_encoded']\n",
      "RFE: ['Age', 'SibSp', 'Parch', 'Fare', 'Pclass_encoded', 'Sex_encoded', 'Embarked_encoded']\n",
      "\n"
     ]
    },
    {
     "data": {
      "text/html": [
       "<div>\n",
       "<style scoped>\n",
       "    .dataframe tbody tr th:only-of-type {\n",
       "        vertical-align: middle;\n",
       "    }\n",
       "\n",
       "    .dataframe tbody tr th {\n",
       "        vertical-align: top;\n",
       "    }\n",
       "\n",
       "    .dataframe thead th {\n",
       "        text-align: right;\n",
       "    }\n",
       "</style>\n",
       "<table border=\"1\" class=\"dataframe\">\n",
       "  <thead>\n",
       "    <tr style=\"text-align: right;\">\n",
       "      <th></th>\n",
       "      <th>k</th>\n",
       "      <th>k_best</th>\n",
       "      <th>k_best_features</th>\n",
       "      <th>rfe</th>\n",
       "      <th>rfe_best_features</th>\n",
       "    </tr>\n",
       "  </thead>\n",
       "  <tbody>\n",
       "    <tr>\n",
       "      <th>0</th>\n",
       "      <td>1</td>\n",
       "      <td>0.546</td>\n",
       "      <td>[['Fare'], ['Age', 'Fare'], ['Age', 'Fare', 'S...</td>\n",
       "      <td>0.546</td>\n",
       "      <td>[['Fare'], ['Age', 'Fare'], ['Age', 'Fare', 'S...</td>\n",
       "    </tr>\n",
       "    <tr>\n",
       "      <th>1</th>\n",
       "      <td>2</td>\n",
       "      <td>0.511</td>\n",
       "      <td>[['Fare'], ['Age', 'Fare'], ['Age', 'Fare', 'S...</td>\n",
       "      <td>0.511</td>\n",
       "      <td>[['Fare'], ['Age', 'Fare'], ['Age', 'Fare', 'S...</td>\n",
       "    </tr>\n",
       "    <tr>\n",
       "      <th>2</th>\n",
       "      <td>3</td>\n",
       "      <td>0.703</td>\n",
       "      <td>[['Fare'], ['Age', 'Fare'], ['Age', 'Fare', 'S...</td>\n",
       "      <td>0.703</td>\n",
       "      <td>[['Fare'], ['Age', 'Fare'], ['Age', 'Fare', 'S...</td>\n",
       "    </tr>\n",
       "    <tr>\n",
       "      <th>3</th>\n",
       "      <td>4</td>\n",
       "      <td>0.738</td>\n",
       "      <td>[['Fare'], ['Age', 'Fare'], ['Age', 'Fare', 'S...</td>\n",
       "      <td>0.738</td>\n",
       "      <td>[['Fare'], ['Age', 'Fare'], ['Age', 'Fare', 'S...</td>\n",
       "    </tr>\n",
       "    <tr>\n",
       "      <th>4</th>\n",
       "      <td>5</td>\n",
       "      <td>0.739</td>\n",
       "      <td>[['Fare'], ['Age', 'Fare'], ['Age', 'Fare', 'S...</td>\n",
       "      <td>0.739</td>\n",
       "      <td>[['Fare'], ['Age', 'Fare'], ['Age', 'Fare', 'S...</td>\n",
       "    </tr>\n",
       "    <tr>\n",
       "      <th>5</th>\n",
       "      <td>6</td>\n",
       "      <td>0.726</td>\n",
       "      <td>[['Fare'], ['Age', 'Fare'], ['Age', 'Fare', 'S...</td>\n",
       "      <td>0.726</td>\n",
       "      <td>[['Fare'], ['Age', 'Fare'], ['Age', 'Fare', 'S...</td>\n",
       "    </tr>\n",
       "    <tr>\n",
       "      <th>6</th>\n",
       "      <td>7</td>\n",
       "      <td>0.730</td>\n",
       "      <td>[['Fare'], ['Age', 'Fare'], ['Age', 'Fare', 'S...</td>\n",
       "      <td>0.730</td>\n",
       "      <td>[['Fare'], ['Age', 'Fare'], ['Age', 'Fare', 'S...</td>\n",
       "    </tr>\n",
       "  </tbody>\n",
       "</table>\n",
       "</div>"
      ],
      "text/plain": [
       "   k  k_best                                    k_best_features    rfe  \\\n",
       "0  1   0.546  [['Fare'], ['Age', 'Fare'], ['Age', 'Fare', 'S...  0.546   \n",
       "1  2   0.511  [['Fare'], ['Age', 'Fare'], ['Age', 'Fare', 'S...  0.511   \n",
       "2  3   0.703  [['Fare'], ['Age', 'Fare'], ['Age', 'Fare', 'S...  0.703   \n",
       "3  4   0.738  [['Fare'], ['Age', 'Fare'], ['Age', 'Fare', 'S...  0.738   \n",
       "4  5   0.739  [['Fare'], ['Age', 'Fare'], ['Age', 'Fare', 'S...  0.739   \n",
       "5  6   0.726  [['Fare'], ['Age', 'Fare'], ['Age', 'Fare', 'S...  0.726   \n",
       "6  7   0.730  [['Fare'], ['Age', 'Fare'], ['Age', 'Fare', 'S...  0.730   \n",
       "\n",
       "                                   rfe_best_features  \n",
       "0  [['Fare'], ['Age', 'Fare'], ['Age', 'Fare', 'S...  \n",
       "1  [['Fare'], ['Age', 'Fare'], ['Age', 'Fare', 'S...  \n",
       "2  [['Fare'], ['Age', 'Fare'], ['Age', 'Fare', 'S...  \n",
       "3  [['Fare'], ['Age', 'Fare'], ['Age', 'Fare', 'S...  \n",
       "4  [['Fare'], ['Age', 'Fare'], ['Age', 'Fare', 'S...  \n",
       "5  [['Fare'], ['Age', 'Fare'], ['Age', 'Fare', 'S...  \n",
       "6  [['Fare'], ['Age', 'Fare'], ['Age', 'Fare', 'S...  "
      ]
     },
     "execution_count": 42,
     "metadata": {},
     "output_type": "execute_result"
    }
   ],
   "source": [
    "# Splitting training and testing data\n",
    "from sklearn.model_selection import train_test_split\n",
    "from sklearn.feature_selection import SelectKBest, mutual_info_classif, RFE\n",
    "from sklearn.metrics import f1_score\n",
    "from sklearn.ensemble import RandomForestClassifier\n",
    "\n",
    "titanic_fs = titanic.copy()\n",
    "\n",
    "X_fs = titanic_fs.drop([\"Survived\"], axis=1)\n",
    "y_fs = titanic_fs[\"Survived\"]\n",
    "\n",
    "X_train_fs, X_test_fs, y_train_fs, y_test_fs = train_test_split(X_fs, y_fs, test_size=0.7, shuffle=True, stratify=y_fs ,random_state=1)\n",
    "\n",
    "k_best_f1_scores = []\n",
    "k_best_best_features = []\n",
    "rfe_f1_scores = []\n",
    "rfe_best_features = []\n",
    "\n",
    "k_best_rf = RandomForestClassifier(random_state=1)\n",
    "rfe_rf = RandomForestClassifier(random_state=1)\n",
    "rf = RandomForestClassifier(random_state=1)\n",
    "\n",
    "for k in range(1, titanic_fs.shape[1]):\n",
    "    # Creating feature selectors\n",
    "    k_best_selector = SelectKBest(score_func=mutual_info_classif, k=k)\n",
    "    k_best_selector.fit(X_train_fs, y_train_fs)\n",
    "\n",
    "    rfe_selector = RFE(estimator=rfe_rf, n_features_to_select=k, step=1)\n",
    "    rfe_selector.fit(X_train_fs, y_train_fs)\n",
    "\n",
    "    # Feature masks\n",
    "    k_best_feature_mask = k_best_selector.get_support()\n",
    "    rfe_feature_mask = rfe_selector.get_support()\n",
    "\n",
    "    # Apply feature selectors to data sets\n",
    "    k_best_selected = {\n",
    "        \"X_train\": k_best_selector.transform(X_train_fs),\n",
    "        \"X_test\": k_best_selector.transform(X_test_fs)\n",
    "    }\n",
    "\n",
    "    rfe_selected = {\n",
    "        \"X_train\": rfe_selector.transform(X_train_fs),\n",
    "        \"X_test\": rfe_selector.transform(X_test_fs)\n",
    "    }\n",
    "    \n",
    "    # Training models\n",
    "    k_best_rf.fit(k_best_selected[\"X_train\"], y_train_fs)\n",
    "    rfe_rf.fit(rfe_selected[\"X_train\"], y_train_fs)\n",
    "\n",
    "   \n",
    "    # Obtaining scores\n",
    "    k_best_y_pred_fs = k_best_rf.predict(k_best_selected[\"X_test\"])\n",
    "    rfe_y_pred = rfe_rf.predict(rfe_selected[\"X_test\"])\n",
    "\n",
    "    k_best_f1_scores.append(round(f1_score(y_test_fs, k_best_y_pred_fs), 3))\n",
    "    rfe_f1_scores.append(round(f1_score(y_test_fs, rfe_y_pred), 3))\n",
    "    \n",
    "    current_k_best_best_features = X_train_fs.columns[k_best_feature_mask].to_list()\n",
    "    current_rfe_best_features = X_train_fs.columns[rfe_feature_mask].to_list()\n",
    "    \n",
    "    k_best_best_features.append(current_k_best_best_features)\n",
    "    rfe_best_features.append(current_rfe_best_features)\n",
    "    \n",
    "    # rf.fit(X_train_fs, y_train_fs)\n",
    "\n",
    "    # print(rf.feature_importances_)\n",
    "\n",
    "    print(\"K Value:\", k)\n",
    "    print(\"==================\")\n",
    "    print(\"K Best:\", current_k_best_best_features)\n",
    "    print(\"RFE:\", current_rfe_best_features)\n",
    "    print(\"\")\n",
    "\n",
    "f1_score_df = pd.DataFrame({\n",
    "    \"k\": np.arange(1, titanic_fs.shape[1]),\n",
    "    \"k_best\": k_best_f1_scores,\n",
    "    \"k_best_features\": str(k_best_best_features),\n",
    "    \"rfe\": rfe_f1_scores,\n",
    "    \"rfe_best_features\": str(rfe_best_features)\n",
    "})\n",
    "\n",
    "f1_score_df"
   ]
  },
  {
   "cell_type": "code",
   "execution_count": 43,
   "metadata": {},
   "outputs": [
    {
     "data": {
      "text/plain": [
       "<Axes: xlabel='k', ylabel='k_best'>"
      ]
     },
     "execution_count": 43,
     "metadata": {},
     "output_type": "execute_result"
    },
    {
     "data": {
      "image/png": "[encoded data removed]",
      "text/plain": [
       "<Figure size 640x480 with 1 Axes>"
      ]
     },
     "metadata": {},
     "output_type": "display_data"
    }
   ],
   "source": [
    "sns.lineplot(x=f1_score_df[\"k\"], y=f1_score_df[\"k_best\"])\n",
    "sns.lineplot(x=f1_score_df[\"k\"], y=f1_score_df[\"rfe\"])"
   ]
  },
  {
   "cell_type": "markdown",
   "metadata": {},
   "source": [
    "#### I shall use K = 4, since it is has the best performance with the least number."
   ]
  },
  {
   "cell_type": "code",
   "execution_count": 44,
   "metadata": {},
   "outputs": [
    {
     "data": {
      "text/html": [
       "<div>\n",
       "<style scoped>\n",
       "    .dataframe tbody tr th:only-of-type {\n",
       "        vertical-align: middle;\n",
       "    }\n",
       "\n",
       "    .dataframe tbody tr th {\n",
       "        vertical-align: top;\n",
       "    }\n",
       "\n",
       "    .dataframe thead th {\n",
       "        text-align: right;\n",
       "    }\n",
       "</style>\n",
       "<table border=\"1\" class=\"dataframe\">\n",
       "  <thead>\n",
       "    <tr style=\"text-align: right;\">\n",
       "      <th></th>\n",
       "      <th>k</th>\n",
       "      <th>k_best</th>\n",
       "      <th>k_best_features</th>\n",
       "      <th>rfe</th>\n",
       "      <th>rfe_best_features</th>\n",
       "    </tr>\n",
       "  </thead>\n",
       "  <tbody>\n",
       "    <tr>\n",
       "      <th>0</th>\n",
       "      <td>1</td>\n",
       "      <td>0.546</td>\n",
       "      <td>[['Fare'], ['Age', 'Fare'], ['Age', 'Fare', 'S...</td>\n",
       "      <td>0.546</td>\n",
       "      <td>[['Fare'], ['Age', 'Fare'], ['Age', 'Fare', 'S...</td>\n",
       "    </tr>\n",
       "    <tr>\n",
       "      <th>1</th>\n",
       "      <td>2</td>\n",
       "      <td>0.511</td>\n",
       "      <td>[['Fare'], ['Age', 'Fare'], ['Age', 'Fare', 'S...</td>\n",
       "      <td>0.511</td>\n",
       "      <td>[['Fare'], ['Age', 'Fare'], ['Age', 'Fare', 'S...</td>\n",
       "    </tr>\n",
       "    <tr>\n",
       "      <th>2</th>\n",
       "      <td>3</td>\n",
       "      <td>0.703</td>\n",
       "      <td>[['Fare'], ['Age', 'Fare'], ['Age', 'Fare', 'S...</td>\n",
       "      <td>0.703</td>\n",
       "      <td>[['Fare'], ['Age', 'Fare'], ['Age', 'Fare', 'S...</td>\n",
       "    </tr>\n",
       "    <tr>\n",
       "      <th>3</th>\n",
       "      <td>4</td>\n",
       "      <td>0.738</td>\n",
       "      <td>[['Fare'], ['Age', 'Fare'], ['Age', 'Fare', 'S...</td>\n",
       "      <td>0.738</td>\n",
       "      <td>[['Fare'], ['Age', 'Fare'], ['Age', 'Fare', 'S...</td>\n",
       "    </tr>\n",
       "    <tr>\n",
       "      <th>4</th>\n",
       "      <td>5</td>\n",
       "      <td>0.739</td>\n",
       "      <td>[['Fare'], ['Age', 'Fare'], ['Age', 'Fare', 'S...</td>\n",
       "      <td>0.739</td>\n",
       "      <td>[['Fare'], ['Age', 'Fare'], ['Age', 'Fare', 'S...</td>\n",
       "    </tr>\n",
       "    <tr>\n",
       "      <th>5</th>\n",
       "      <td>6</td>\n",
       "      <td>0.726</td>\n",
       "      <td>[['Fare'], ['Age', 'Fare'], ['Age', 'Fare', 'S...</td>\n",
       "      <td>0.726</td>\n",
       "      <td>[['Fare'], ['Age', 'Fare'], ['Age', 'Fare', 'S...</td>\n",
       "    </tr>\n",
       "    <tr>\n",
       "      <th>6</th>\n",
       "      <td>7</td>\n",
       "      <td>0.730</td>\n",
       "      <td>[['Fare'], ['Age', 'Fare'], ['Age', 'Fare', 'S...</td>\n",
       "      <td>0.730</td>\n",
       "      <td>[['Fare'], ['Age', 'Fare'], ['Age', 'Fare', 'S...</td>\n",
       "    </tr>\n",
       "  </tbody>\n",
       "</table>\n",
       "</div>"
      ],
      "text/plain": [
       "   k  k_best                                    k_best_features    rfe  \\\n",
       "0  1   0.546  [['Fare'], ['Age', 'Fare'], ['Age', 'Fare', 'S...  0.546   \n",
       "1  2   0.511  [['Fare'], ['Age', 'Fare'], ['Age', 'Fare', 'S...  0.511   \n",
       "2  3   0.703  [['Fare'], ['Age', 'Fare'], ['Age', 'Fare', 'S...  0.703   \n",
       "3  4   0.738  [['Fare'], ['Age', 'Fare'], ['Age', 'Fare', 'S...  0.738   \n",
       "4  5   0.739  [['Fare'], ['Age', 'Fare'], ['Age', 'Fare', 'S...  0.739   \n",
       "5  6   0.726  [['Fare'], ['Age', 'Fare'], ['Age', 'Fare', 'S...  0.726   \n",
       "6  7   0.730  [['Fare'], ['Age', 'Fare'], ['Age', 'Fare', 'S...  0.730   \n",
       "\n",
       "                                   rfe_best_features  \n",
       "0  [['Fare'], ['Age', 'Fare'], ['Age', 'Fare', 'S...  \n",
       "1  [['Fare'], ['Age', 'Fare'], ['Age', 'Fare', 'S...  \n",
       "2  [['Fare'], ['Age', 'Fare'], ['Age', 'Fare', 'S...  \n",
       "3  [['Fare'], ['Age', 'Fare'], ['Age', 'Fare', 'S...  \n",
       "4  [['Fare'], ['Age', 'Fare'], ['Age', 'Fare', 'S...  \n",
       "5  [['Fare'], ['Age', 'Fare'], ['Age', 'Fare', 'S...  \n",
       "6  [['Fare'], ['Age', 'Fare'], ['Age', 'Fare', 'S...  "
      ]
     },
     "execution_count": 44,
     "metadata": {},
     "output_type": "execute_result"
    }
   ],
   "source": [
    "f1_score_df"
   ]
  },
  {
   "cell_type": "code",
   "execution_count": 45,
   "metadata": {},
   "outputs": [
    {
     "name": "stdout",
     "output_type": "stream",
     "text": [
      "<class 'pandas.core.frame.DataFrame'>\n",
      "RangeIndex: 891 entries, 0 to 890\n",
      "Data columns (total 5 columns):\n",
      " #   Column          Non-Null Count  Dtype  \n",
      "---  ------          --------------  -----  \n",
      " 0   Age             891 non-null    float64\n",
      " 1   Fare            891 non-null    float64\n",
      " 2   Pclass_encoded  891 non-null    Int64  \n",
      " 3   Sex_encoded     891 non-null    Int64  \n",
      " 4   Survived        891 non-null    int64  \n",
      "dtypes: Int64(2), float64(2), int64(1)\n",
      "memory usage: 36.7 KB\n"
     ]
    }
   ],
   "source": [
    "import ast\n",
    "# Selecting features dynamically\n",
    "best_k = 4\n",
    "\n",
    "row_select = f1_score_df[\"k\"] == best_k\n",
    "\n",
    "features_string = f1_score_df.loc[row_select][\"k_best_features\"].iloc[0]\n",
    "\n",
    "features_list = ast.literal_eval(features_string)\n",
    "\n",
    "relevant_columns = features_list[best_k - 1]\n",
    "\n",
    "relevant_columns.append(\"Survived\")\n",
    "\n",
    "titanic = titanic[relevant_columns]\n",
    "\n",
    "titanic.info()"
   ]
  },
  {
   "cell_type": "code",
   "execution_count": 46,
   "metadata": {},
   "outputs": [],
   "source": [
    "from sklearn.model_selection import train_test_split\n",
    "X = titanic.drop(columns=[\"Survived\"], axis=1, inplace=False)\n",
    "\n",
    "y = titanic[\"Survived\"]\n",
    "\n",
    "# Splitting  train and test data\n",
    "X_train, X_test, y_train, y_test = train_test_split(X, y, test_size=0.7, shuffle=True, stratify=y, random_state=1)"
   ]
  },
  {
   "cell_type": "code",
   "execution_count": 47,
   "metadata": {},
   "outputs": [],
   "source": [
    "# Hyperparameter finetuning\n",
    "from sklearn.model_selection import RandomizedSearchCV\n",
    "from scipy.stats import randint\n",
    "\n",
    "parameters =  {\n",
    "    'n_estimators': randint(50, 500),\n",
    "    'max_depth': randint(1, 20)\n",
    "    }\n",
    "\n",
    "random_search = RandomizedSearchCV(\n",
    "    rf,\n",
    "    param_distributions=parameters,\n",
    "    n_iter=10,\n",
    "    cv=5\n",
    ")\n",
    "\n",
    "random_search.fit(X_train, y_train)\n",
    "\n",
    "parameters = random_search.best_params_"
   ]
  },
  {
   "cell_type": "code",
   "execution_count": null,
   "metadata": {},
   "outputs": [
    {
     "name": "stdout",
     "output_type": "stream",
     "text": [
      "Accuracy: 0.782051282051282\n",
      "              precision    recall  f1-score   support\n",
      "\n",
      "           0       0.82      0.82      0.82       384\n",
      "           1       0.71      0.72      0.72       240\n",
      "\n",
      "    accuracy                           0.78       624\n",
      "   macro avg       0.77      0.77      0.77       624\n",
      "weighted avg       0.78      0.78      0.78       624\n",
      "\n"
     ]
    }
   ],
   "source": [
    "# Final Model\n",
    "from sklearn.ensemble import RandomForestClassifier\n",
    "from sklearn.metrics import accuracy_score, classification_report\n",
    "\n",
    "rf = RandomForestClassifier(n_estimators=parameters[\"n_estimators\"], max_depth=parameters[\"max_depth\"], random_state=1)\n",
    "rf.fit(X_train, y_train)\n",
    "\n",
    "y_pred = rf.predict(X_test)\n",
    "print(\"Accuracy:\",accuracy_score(y_test, y_pred))\n",
    "print(classification_report(y_test, y_pred))"
   ]
  }
 ],
 "metadata": {
  "kernelspec": {
   "display_name": "Python 3 (ipykernel)",
   "language": "python",
   "name": "python3"
  },
  "language_info": {
   "codemirror_mode": {
    "name": "ipython",
    "version": 3
   },
   "file_extension": ".py",
   "mimetype": "text/x-python",
   "name": "python",
   "nbconvert_exporter": "python",
   "pygments_lexer": "ipython3",
   "version": "3.11.5"
  }
 },
 "nbformat": 4,
 "nbformat_minor": 2
}
